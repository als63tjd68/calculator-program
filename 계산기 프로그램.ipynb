{
 "cells": [
  {
   "cell_type": "markdown",
   "metadata": {},
   "source": [
    "## 계산기 프로그램 만들기\n",
    "1. 사칙연산만 합니다\n",
    "1. 정수 두 개를 받습니다\n",
    "1. 어떤 연산을 할지 물어봅니다\n",
    "1. 선택한 연산에 따라 연산 함수를 실행합니다\n",
    "1. 연산 함수의 결과값을 출력합니다"
   ]
  },
  {
   "cell_type": "code",
   "execution_count": 2,
   "metadata": {},
   "outputs": [],
   "source": [
    "def calculator():\n",
    "    x = int(input('숫자1 '))\n",
    "    y = int(input('숫자2 '))\n",
    "    calc = input('연산기호 입력')\n",
    "\n",
    "    if calc == '+':\n",
    "        print(x+y)"
   ]
  },
  {
   "cell_type": "code",
   "execution_count": 3,
   "metadata": {},
   "outputs": [],
   "source": [
    "def input_int():\n",
    "    return int(input('숫자를 입력하세요   '))"
   ]
  },
  {
   "cell_type": "code",
   "execution_count": 4,
   "metadata": {},
   "outputs": [],
   "source": [
    "x = input_int()\n",
    "y = input_int()"
   ]
  },
  {
   "cell_type": "code",
   "execution_count": 5,
   "metadata": {},
   "outputs": [],
   "source": [
    "def input_int(msg):\n",
    "    return int(input(msg))"
   ]
  },
  {
   "cell_type": "code",
   "execution_count": null,
   "metadata": {},
   "outputs": [],
   "source": []
  },
  {
   "cell_type": "markdown",
   "metadata": {},
   "source": [
    "다음은 구글링 참고한 것"
   ]
  },
  {
   "cell_type": "code",
   "execution_count": 1,
   "metadata": {},
   "outputs": [
    {
     "ename": "ValueError",
     "evalue": "invalid literal for int() with base 10: ''",
     "output_type": "error",
     "traceback": [
      "\u001b[1;31m---------------------------------------------------------------------------\u001b[0m",
      "\u001b[1;31mValueError\u001b[0m                                Traceback (most recent call last)",
      "\u001b[1;32md:\\백업용\\일자별 정리\\포토폴리오용\\계산기 프로그램.ipynb Cell 8\u001b[0m line \u001b[0;36m1\n\u001b[0;32m     <a href='vscode-notebook-cell:/d%3A/%EB%B0%B1%EC%97%85%EC%9A%A9/%EC%9D%BC%EC%9E%90%EB%B3%84%20%EC%A0%95%EB%A6%AC/%ED%8F%AC%ED%86%A0%ED%8F%B4%EB%A6%AC%EC%98%A4%EC%9A%A9/%EA%B3%84%EC%82%B0%EA%B8%B0%20%ED%94%84%EB%A1%9C%EA%B7%B8%EB%9E%A8.ipynb#X10sZmlsZQ%3D%3D?line=10'>11</a>\u001b[0m     \u001b[39mreturn\u001b[39;00m a \u001b[39m/\u001b[39m\u001b[39m/\u001b[39m b\n\u001b[0;32m     <a href='vscode-notebook-cell:/d%3A/%EB%B0%B1%EC%97%85%EC%9A%A9/%EC%9D%BC%EC%9E%90%EB%B3%84%20%EC%A0%95%EB%A6%AC/%ED%8F%AC%ED%86%A0%ED%8F%B4%EB%A6%AC%EC%98%A4%EC%9A%A9/%EA%B3%84%EC%82%B0%EA%B8%B0%20%ED%94%84%EB%A1%9C%EA%B7%B8%EB%9E%A8.ipynb#X10sZmlsZQ%3D%3D?line=12'>13</a>\u001b[0m \u001b[39mwhile\u001b[39;00m \u001b[39mTrue\u001b[39;00m:\n\u001b[1;32m---> <a href='vscode-notebook-cell:/d%3A/%EB%B0%B1%EC%97%85%EC%9A%A9/%EC%9D%BC%EC%9E%90%EB%B3%84%20%EC%A0%95%EB%A6%AC/%ED%8F%AC%ED%86%A0%ED%8F%B4%EB%A6%AC%EC%98%A4%EC%9A%A9/%EA%B3%84%EC%82%B0%EA%B8%B0%20%ED%94%84%EB%A1%9C%EA%B7%B8%EB%9E%A8.ipynb#X10sZmlsZQ%3D%3D?line=13'>14</a>\u001b[0m     number1 \u001b[39m=\u001b[39m \u001b[39mint\u001b[39;49m(\u001b[39minput\u001b[39;49m(\u001b[39m'\u001b[39;49m\u001b[39m숫자 하나를 입력해 주세요: \u001b[39;49m\u001b[39m'\u001b[39;49m))\n\u001b[0;32m     <a href='vscode-notebook-cell:/d%3A/%EB%B0%B1%EC%97%85%EC%9A%A9/%EC%9D%BC%EC%9E%90%EB%B3%84%20%EC%A0%95%EB%A6%AC/%ED%8F%AC%ED%86%A0%ED%8F%B4%EB%A6%AC%EC%98%A4%EC%9A%A9/%EA%B3%84%EC%82%B0%EA%B8%B0%20%ED%94%84%EB%A1%9C%EA%B7%B8%EB%9E%A8.ipynb#X10sZmlsZQ%3D%3D?line=14'>15</a>\u001b[0m     \u001b[39mif\u001b[39;00m (number1 \u001b[39m==\u001b[39m \u001b[39m0\u001b[39m ):\n\u001b[0;32m     <a href='vscode-notebook-cell:/d%3A/%EB%B0%B1%EC%97%85%EC%9A%A9/%EC%9D%BC%EC%9E%90%EB%B3%84%20%EC%A0%95%EB%A6%AC/%ED%8F%AC%ED%86%A0%ED%8F%B4%EB%A6%AC%EC%98%A4%EC%9A%A9/%EA%B3%84%EC%82%B0%EA%B8%B0%20%ED%94%84%EB%A1%9C%EA%B7%B8%EB%9E%A8.ipynb#X10sZmlsZQ%3D%3D?line=15'>16</a>\u001b[0m         \u001b[39mbreak\u001b[39;00m\n",
      "\u001b[1;31mValueError\u001b[0m: invalid literal for int() with base 10: ''"
     ]
    }
   ],
   "source": [
    "def 더하기(a, b):\n",
    "    return a + b\n",
    "\n",
    "def 빼기(a, b):\n",
    "    return a - b\n",
    "\n",
    "def 곱하기(a, b):\n",
    "    return a * b\n",
    "\n",
    "def 나누기(a, b):\n",
    "    return a // b\n",
    "\n",
    "while True:\n",
    "    number1 = int(input('숫자 하나를 입력해 주세요: '))\n",
    "    if (number1 == 0 ):\n",
    "        break\n",
    "    부호 = str(input(' +, -, *, / 고르세요 > '))\n",
    "    number2 = int(input('다른 숫자 하나를 입력해 주세요: '))\n",
    "\n",
    "    if (부호 == '+'):\n",
    "        r = 더하기(number1, number2)\n",
    "\n",
    "    elif (부호 == '-'):\n",
    "        r = 빼기(number1, number2)\n",
    "\n",
    "    elif (부호 == '*'):\n",
    "        r = 곱하기(number1, number2)\n",
    "\n",
    "    elif (부호 == '/'):\n",
    "        r = 나누기(number1, number2)\n",
    "\n",
    "    else:\n",
    "        print('\"{}\" 잘못된 입력'.format(부호))\n",
    "\n",
    "\n",
    "    print(' {} {} {} = {}'.format(number1, 부호, number2, r))"
   ]
  }
 ],
 "metadata": {
  "kernelspec": {
   "display_name": "Python 3",
   "language": "python",
   "name": "python3"
  },
  "language_info": {
   "codemirror_mode": {
    "name": "ipython",
    "version": 3
   },
   "file_extension": ".py",
   "mimetype": "text/x-python",
   "name": "python",
   "nbconvert_exporter": "python",
   "pygments_lexer": "ipython3",
   "version": "3.10.9"
  }
 },
 "nbformat": 4,
 "nbformat_minor": 2
}
